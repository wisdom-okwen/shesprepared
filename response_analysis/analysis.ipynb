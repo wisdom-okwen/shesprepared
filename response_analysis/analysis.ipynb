{
 "cells": [
  {
   "cell_type": "code",
   "execution_count": 10,
   "metadata": {},
   "outputs": [],
   "source": [
    "import pandas as pd\n",
    "import numpy as np"
   ]
  },
  {
   "cell_type": "code",
   "execution_count": 14,
   "metadata": {},
   "outputs": [
    {
     "data": {
      "text/html": [
       "<div>\n",
       "<style scoped>\n",
       "    .dataframe tbody tr th:only-of-type {\n",
       "        vertical-align: middle;\n",
       "    }\n",
       "\n",
       "    .dataframe tbody tr th {\n",
       "        vertical-align: top;\n",
       "    }\n",
       "\n",
       "    .dataframe thead th {\n",
       "        text-align: right;\n",
       "    }\n",
       "</style>\n",
       "<table border=\"1\" class=\"dataframe\">\n",
       "  <thead>\n",
       "    <tr style=\"text-align: right;\">\n",
       "      <th></th>\n",
       "      <th>Timestamp</th>\n",
       "      <th>Model</th>\n",
       "      <th>User_Message</th>\n",
       "      <th>Response</th>\n",
       "      <th>Response_Time</th>\n",
       "    </tr>\n",
       "  </thead>\n",
       "  <tbody>\n",
       "    <tr>\n",
       "      <th>0</th>\n",
       "      <td>2024-11-14 11:41:31.684407</td>\n",
       "      <td>Llama-3.1-8B-Instruct</td>\n",
       "      <td>hi there</td>\n",
       "      <td>Hello! I'm ShesPrEPared, a friendly assistant ...</td>\n",
       "      <td>3.811723</td>\n",
       "    </tr>\n",
       "    <tr>\n",
       "      <th>1</th>\n",
       "      <td>2024-11-14 11:41:32.426556</td>\n",
       "      <td>GPT</td>\n",
       "      <td>hi there</td>\n",
       "      <td>Hello! How can I assist you today with informa...</td>\n",
       "      <td>0.741806</td>\n",
       "    </tr>\n",
       "    <tr>\n",
       "      <th>2</th>\n",
       "      <td>2024-11-14 11:42:22.180639</td>\n",
       "      <td>Llama-3.1-8B-Instruct</td>\n",
       "      <td>what's prep</td>\n",
       "      <td>**Pre-Exposure Prophylaxis (PrEP)**\\n\\nPrEP is...</td>\n",
       "      <td>6.949774</td>\n",
       "    </tr>\n",
       "    <tr>\n",
       "      <th>3</th>\n",
       "      <td>2024-11-14 11:42:29.846688</td>\n",
       "      <td>GPT</td>\n",
       "      <td>what's prep</td>\n",
       "      <td>PrEP, or pre-exposure prophylaxis, is a preven...</td>\n",
       "      <td>7.665601</td>\n",
       "    </tr>\n",
       "    <tr>\n",
       "      <th>4</th>\n",
       "      <td>2024-11-14 11:42:57.685684</td>\n",
       "      <td>Llama-3.1-8B-Instruct</td>\n",
       "      <td>what's the best measure to prevent hiv</td>\n",
       "      <td>There are several measures to prevent HIV, and...</td>\n",
       "      <td>7.074731</td>\n",
       "    </tr>\n",
       "  </tbody>\n",
       "</table>\n",
       "</div>"
      ],
      "text/plain": [
       "                    Timestamp                  Model  \\\n",
       "0  2024-11-14 11:41:31.684407  Llama-3.1-8B-Instruct   \n",
       "1  2024-11-14 11:41:32.426556                    GPT   \n",
       "2  2024-11-14 11:42:22.180639  Llama-3.1-8B-Instruct   \n",
       "3  2024-11-14 11:42:29.846688                    GPT   \n",
       "4  2024-11-14 11:42:57.685684  Llama-3.1-8B-Instruct   \n",
       "\n",
       "                             User_Message  \\\n",
       "0                                hi there   \n",
       "1                                hi there   \n",
       "2                             what's prep   \n",
       "3                             what's prep   \n",
       "4  what's the best measure to prevent hiv   \n",
       "\n",
       "                                            Response  Response_Time  \n",
       "0  Hello! I'm ShesPrEPared, a friendly assistant ...       3.811723  \n",
       "1  Hello! How can I assist you today with informa...       0.741806  \n",
       "2  **Pre-Exposure Prophylaxis (PrEP)**\\n\\nPrEP is...       6.949774  \n",
       "3  PrEP, or pre-exposure prophylaxis, is a preven...       7.665601  \n",
       "4  There are several measures to prevent HIV, and...       7.074731  "
      ]
     },
     "execution_count": 14,
     "metadata": {},
     "output_type": "execute_result"
    }
   ],
   "source": [
    "df = pd.read_csv('../response_logs.csv')\n",
    "df.head()"
   ]
  },
  {
   "cell_type": "code",
   "execution_count": 15,
   "metadata": {},
   "outputs": [
    {
     "data": {
      "text/plain": [
       "2.1818439082095495"
      ]
     },
     "execution_count": 15,
     "metadata": {},
     "output_type": "execute_result"
    }
   ],
   "source": [
    "gpt_response_times_avg = df.loc[df[\"Model\"] == \"GPT\", \"Response_Time\"].mean()\n",
    "gpt_response_times_avg\n"
   ]
  },
  {
   "cell_type": "code",
   "execution_count": 16,
   "metadata": {},
   "outputs": [
    {
     "data": {
      "text/plain": [
       "4.827091003719129"
      ]
     },
     "execution_count": 16,
     "metadata": {},
     "output_type": "execute_result"
    }
   ],
   "source": [
    "llama_response_times_avg = df.loc[df[\"Model\"] == \"Llama-3.1-8B-Instruct\", \"Response_Time\"].mean()\n",
    "llama_response_times_avg"
   ]
  },
  {
   "cell_type": "code",
   "execution_count": 19,
   "metadata": {},
   "outputs": [],
   "source": [
    "df['Input_Length'] = df['User_Message'].str.len()\n",
    "df['Response_Length'] = df['Response'].str.len()"
   ]
  },
  {
   "cell_type": "code",
   "execution_count": 20,
   "metadata": {},
   "outputs": [
    {
     "data": {
      "text/html": [
       "<div>\n",
       "<style scoped>\n",
       "    .dataframe tbody tr th:only-of-type {\n",
       "        vertical-align: middle;\n",
       "    }\n",
       "\n",
       "    .dataframe tbody tr th {\n",
       "        vertical-align: top;\n",
       "    }\n",
       "\n",
       "    .dataframe thead th {\n",
       "        text-align: right;\n",
       "    }\n",
       "</style>\n",
       "<table border=\"1\" class=\"dataframe\">\n",
       "  <thead>\n",
       "    <tr style=\"text-align: right;\">\n",
       "      <th></th>\n",
       "      <th>Timestamp</th>\n",
       "      <th>Model</th>\n",
       "      <th>User_Message</th>\n",
       "      <th>Response</th>\n",
       "      <th>Response_Time</th>\n",
       "      <th>Input_Length</th>\n",
       "      <th>Response_Length</th>\n",
       "    </tr>\n",
       "  </thead>\n",
       "  <tbody>\n",
       "    <tr>\n",
       "      <th>0</th>\n",
       "      <td>2024-11-14 11:41:31.684407</td>\n",
       "      <td>Llama-3.1-8B-Instruct</td>\n",
       "      <td>hi there</td>\n",
       "      <td>Hello! I'm ShesPrEPared, a friendly assistant ...</td>\n",
       "      <td>3.811723</td>\n",
       "      <td>8</td>\n",
       "      <td>392</td>\n",
       "    </tr>\n",
       "    <tr>\n",
       "      <th>1</th>\n",
       "      <td>2024-11-14 11:41:32.426556</td>\n",
       "      <td>GPT</td>\n",
       "      <td>hi there</td>\n",
       "      <td>Hello! How can I assist you today with informa...</td>\n",
       "      <td>0.741806</td>\n",
       "      <td>8</td>\n",
       "      <td>80</td>\n",
       "    </tr>\n",
       "    <tr>\n",
       "      <th>2</th>\n",
       "      <td>2024-11-14 11:42:22.180639</td>\n",
       "      <td>Llama-3.1-8B-Instruct</td>\n",
       "      <td>what's prep</td>\n",
       "      <td>**Pre-Exposure Prophylaxis (PrEP)**\\n\\nPrEP is...</td>\n",
       "      <td>6.949774</td>\n",
       "      <td>11</td>\n",
       "      <td>868</td>\n",
       "    </tr>\n",
       "    <tr>\n",
       "      <th>3</th>\n",
       "      <td>2024-11-14 11:42:29.846688</td>\n",
       "      <td>GPT</td>\n",
       "      <td>what's prep</td>\n",
       "      <td>PrEP, or pre-exposure prophylaxis, is a preven...</td>\n",
       "      <td>7.665601</td>\n",
       "      <td>11</td>\n",
       "      <td>878</td>\n",
       "    </tr>\n",
       "    <tr>\n",
       "      <th>4</th>\n",
       "      <td>2024-11-14 11:42:57.685684</td>\n",
       "      <td>Llama-3.1-8B-Instruct</td>\n",
       "      <td>what's the best measure to prevent hiv</td>\n",
       "      <td>There are several measures to prevent HIV, and...</td>\n",
       "      <td>7.074731</td>\n",
       "      <td>38</td>\n",
       "      <td>903</td>\n",
       "    </tr>\n",
       "  </tbody>\n",
       "</table>\n",
       "</div>"
      ],
      "text/plain": [
       "                    Timestamp                  Model  \\\n",
       "0  2024-11-14 11:41:31.684407  Llama-3.1-8B-Instruct   \n",
       "1  2024-11-14 11:41:32.426556                    GPT   \n",
       "2  2024-11-14 11:42:22.180639  Llama-3.1-8B-Instruct   \n",
       "3  2024-11-14 11:42:29.846688                    GPT   \n",
       "4  2024-11-14 11:42:57.685684  Llama-3.1-8B-Instruct   \n",
       "\n",
       "                             User_Message  \\\n",
       "0                                hi there   \n",
       "1                                hi there   \n",
       "2                             what's prep   \n",
       "3                             what's prep   \n",
       "4  what's the best measure to prevent hiv   \n",
       "\n",
       "                                            Response  Response_Time  \\\n",
       "0  Hello! I'm ShesPrEPared, a friendly assistant ...       3.811723   \n",
       "1  Hello! How can I assist you today with informa...       0.741806   \n",
       "2  **Pre-Exposure Prophylaxis (PrEP)**\\n\\nPrEP is...       6.949774   \n",
       "3  PrEP, or pre-exposure prophylaxis, is a preven...       7.665601   \n",
       "4  There are several measures to prevent HIV, and...       7.074731   \n",
       "\n",
       "   Input_Length  Response_Length  \n",
       "0             8              392  \n",
       "1             8               80  \n",
       "2            11              868  \n",
       "3            11              878  \n",
       "4            38              903  "
      ]
     },
     "execution_count": 20,
     "metadata": {},
     "output_type": "execute_result"
    }
   ],
   "source": [
    "df.head()"
   ]
  },
  {
   "cell_type": "code",
   "execution_count": null,
   "metadata": {},
   "outputs": [],
   "source": []
  }
 ],
 "metadata": {
  "kernelspec": {
   "display_name": "Python 3",
   "language": "python",
   "name": "python3"
  },
  "language_info": {
   "codemirror_mode": {
    "name": "ipython",
    "version": 3
   },
   "file_extension": ".py",
   "mimetype": "text/x-python",
   "name": "python",
   "nbconvert_exporter": "python",
   "pygments_lexer": "ipython3",
   "version": "3.10.12"
  }
 },
 "nbformat": 4,
 "nbformat_minor": 2
}
